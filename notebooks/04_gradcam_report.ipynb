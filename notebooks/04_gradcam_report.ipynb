{
 "cells": [
  {
   "cell_type": "code",
   "execution_count": null,
   "id": "5b50081a",
   "metadata": {
    "vscode": {
     "languageId": "plaintext"
    }
   },
   "outputs": [],
   "source": [
    "from src.models.resnet50 import ResNet50KL\n",
    "from src.explain.gradcam import GradCAM\n",
    "from src.explain.viz_utils import visualize_cam\n",
    "import torch\n",
    "\n",
    "# 1️⃣ 모델 로드\n",
    "model = ResNet50KL(num_classes=5)\n",
    "model.load_state_dict(torch.load(\"outputs/resnet50_baseline/model_best.pth\", map_location=\"cpu\"))\n",
    "model.eval()\n",
    "\n",
    "# 2️⃣ Grad-CAM 초기화\n",
    "gradcam = GradCAM(model, target_layer=\"layer4\")\n",
    "\n",
    "# 3️⃣ 샘플 이미지 시각화\n",
    "sample_path = \"data/processed/patient_001.jpg\"\n",
    "img = cv2.imread(sample_path)\n",
    "img = cv2.cvtColor(img, cv2.COLOR_BGR2RGB)\n",
    "tensor = torch.tensor(img.transpose(2, 0, 1) / 255.0).unsqueeze(0).float()\n",
    "\n",
    "cam = gradcam.generate(tensor)\n",
    "visualize_cam(sample_path, cam, save_path=\"reports/figures/gradcam_sample.png\", show=True)\n"
   ]
  }
 ],
 "metadata": {
  "language_info": {
   "name": "python"
  }
 },
 "nbformat": 4,
 "nbformat_minor": 5
}
